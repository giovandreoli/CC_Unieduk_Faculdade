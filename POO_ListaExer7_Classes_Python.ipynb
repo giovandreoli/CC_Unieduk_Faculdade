{
  "nbformat": 4,
  "nbformat_minor": 0,
  "metadata": {
    "colab": {
      "provenance": [],
      "include_colab_link": true
    },
    "kernelspec": {
      "name": "python3",
      "display_name": "Python 3"
    },
    "language_info": {
      "name": "python"
    }
  },
  "cells": [
    {
      "cell_type": "markdown",
      "metadata": {
        "id": "view-in-github",
        "colab_type": "text"
      },
      "source": [
        "<a href=\"https://colab.research.google.com/github/giovandreoli/CC_Unieduk_Faculdade/blob/POO_listaexer_7/POO_ListaExer7_Classes_Python.ipynb\" target=\"_parent\"><img src=\"https://colab.research.google.com/assets/colab-badge.svg\" alt=\"Open In Colab\"/></a>"
      ]
    },
    {
      "cell_type": "markdown",
      "source": [
        "**Exercicio 1 -** Crie uma classe chamada Retangulo que tenha métodos para calcular a área e o perímetro do retângulo, dados os valores dos lados."
      ],
      "metadata": {
        "id": "1isTLvze78uA"
      }
    },
    {
      "cell_type": "code",
      "execution_count": null,
      "metadata": {
        "id": "PkMmHnIh77uZ"
      },
      "outputs": [],
      "source": [
        "class Retangulo:\n",
        "    def __init__(self, comprimento, largura):\n",
        "        self.comprimento = comprimento\n",
        "        self.largura = largura\n",
        "\n",
        "    def calcular_area(self):\n",
        "        return self.comprimento * self.largura\n",
        "\n",
        "    def calcular_perimetro(self):\n",
        "        return 2 * (self.comprimento + self.largura)\n",
        "\n",
        "# Exemplo de uso\n",
        "retangulo = Retangulo(5, 3)\n",
        "print(\"Área do retângulo:\", retangulo.calcular_area())\n",
        "print(\"Perímetro do retângulo:\", retangulo.calcular_perimetro())\n"
      ]
    },
    {
      "cell_type": "markdown",
      "source": [
        "**Exercício 2 -** Crie uma classe chamada ContaBancaria que tenha métodos para depositar, sacar e verificar saldo."
      ],
      "metadata": {
        "id": "jClnYO5A8NvQ"
      }
    },
    {
      "cell_type": "code",
      "source": [
        "class conta_bancaria:\n",
        "    def __init__(self, saldo, deposito, saque):\n",
        "        self.saldo = saldo\n",
        "        self.deposito = deposito\n",
        "        self.saque = saque\n",
        "\n",
        "    def verificar_saldo(self):\n",
        "        return self.saldo\n",
        "\n",
        "    def realizar_deposito(self):\n",
        "        return self.saldo + self.deposito\n",
        "\n",
        "    def realizar_saque(self):\n",
        "        return self.saldo - self.saque\n",
        "\n",
        "# Exemplo de uso\n",
        "total = conta_bancaria(10, 2, 5)\n",
        "print(f\"Seu saldo é de: \", total.verificar_saldo())\n",
        "print(\"Saldo após o depósito: \", total.realizar_deposito())\n",
        "print(\"Saldo após o saque: \", total.realizar_saque())"
      ],
      "metadata": {
        "id": "yXlWXePS8ONS"
      },
      "execution_count": null,
      "outputs": []
    },
    {
      "cell_type": "markdown",
      "source": [
        "**Exercício 3** - Crie uma classe chamada Pessoa com atributos para nome, idade e gênero. Adicione métodos para atualizar esses atributos."
      ],
      "metadata": {
        "id": "IGMWfCzq8j2u"
      }
    },
    {
      "cell_type": "code",
      "source": [
        "class Pessoa:\n",
        "    def __init__(self, nome, idade, genero):\n",
        "        self.nome = nome\n",
        "        self.idade = idade\n",
        "        self.genero = genero\n",
        "\n",
        "    def imprimir_informacoes(self):\n",
        "        print(f\"Nome: {self.nome}, Idade: {self.idade}, Genero: {self.genero}\")\n",
        "\n",
        "    def atualizar_nome(self, novo_nome):\n",
        "        self.nome = novo_nome\n",
        "\n",
        "    def atualizar_idade(self, nova_idade):\n",
        "        self.idade = nova_idade\n",
        "\n",
        "    def atualizar_genero(self, novo_genero):\n",
        "        self.genero = novo_genero\n",
        "\n",
        "\n",
        "#Imprimir informações\n",
        "\n",
        "pessoa1 = Pessoa(\"João\", 30, \"MASC\")\n",
        "pessoa2 = Pessoa(\"Maria\", 21, \"FEM\")\n",
        "\n",
        "pessoa1.imprimir_informacoes()\n",
        "pessoa2.imprimir_informacoes()\n",
        "\n",
        "pessoa1.atualizar_nome(\"Pedro\")\n",
        "pessoa1.atualizar_idade(23)\n",
        "pessoa1.atualizar_genero(\"Outro\")\n",
        "\n",
        "pessoa1.imprimir_informacoes()\n",
        "pessoa2.imprimir_informacoes()"
      ],
      "metadata": {
        "id": "L-W1QFdh8kN9"
      },
      "execution_count": null,
      "outputs": []
    },
    {
      "cell_type": "markdown",
      "source": [
        "**Exercício 4 -** Crie uma classe chamada Livro com atributos para título, autor e número de páginas. Adicione métodos para exibir informações sobre o livro."
      ],
      "metadata": {
        "id": "GZ85ILHQ8ybl"
      }
    },
    {
      "cell_type": "code",
      "source": [
        "class Livro:\n",
        "    def __init__(self, titulo, autor, num_paginas):\n",
        "        self.titulo = titulo\n",
        "        self.autor = autor\n",
        "        self.num_paginas = num_paginas\n",
        "\n",
        "    def imprimir_informacoes(self):\n",
        "        print(f\"Título: {self.titulo}, Autor: {self.autor}, Número de páginas: {self.num_paginas}\")\n",
        "\n",
        "\n",
        "#Imprimir informações\n",
        "\n",
        "livro1 = Livro(\"Romeu e Julieta\", \"William Shakespeare\", 139)\n",
        "livro2 = Livro(\"Capitães de Areia\", \"Jorge Amado\", 246)\n",
        "\n",
        "livro1.imprimir_informacoes()\n",
        "livro2.imprimir_informacoes()\n"
      ],
      "metadata": {
        "id": "ItDXIjBJ8ytK"
      },
      "execution_count": null,
      "outputs": []
    },
    {
      "cell_type": "markdown",
      "source": [
        "**Exercício 5 -** Crie uma classe chamada Triangulo com métodos para calcular a área e o perímetro do triângulo, dados os valores dos lados."
      ],
      "metadata": {
        "id": "h877nun-9BTA"
      }
    },
    {
      "cell_type": "code",
      "source": [
        "class Triangulo:\n",
        "    def __init__(self, base, altura, lado):\n",
        "        self.base = base\n",
        "        self.altura = altura\n",
        "        self.lado = lado\n",
        "\n",
        "    def calcular_area(self):\n",
        "        return self.base * self.altura /2\n",
        "\n",
        "    def calcular_perimetro(self):\n",
        "        return self.base + self.altura + self.lado\n",
        "\n",
        "# Exemplo de uso\n",
        "triangulo = Triangulo(5, 4, 3)\n",
        "print(\"Área do triângulo:\", triangulo.calcular_area())\n",
        "print(\"Perímetro do triângulo:\", triangulo.calcular_perimetro())"
      ],
      "metadata": {
        "id": "mTcdo1Wr9Bpr"
      },
      "execution_count": null,
      "outputs": []
    },
    {
      "cell_type": "markdown",
      "source": [
        "**Exercício 6 -** Crie uma classe chamada Animal com métodos para fazer o animal emitir som e para exibir informações básicas sobre o animal (por exemplo, espécie, cor)."
      ],
      "metadata": {
        "id": "nbRlcuVO9ODg"
      }
    },
    {
      "cell_type": "code",
      "source": [
        "from _typeshed import SupportsDivMod\n",
        "class Animal:\n",
        "    def __init__(self, nome, especie, cor, som):\n",
        "        self.nome = nome\n",
        "        self.especie = especie\n",
        "        self.cor = cor\n",
        "        self.som = som\n",
        "\n",
        "    def imprimir_informacoes(self):\n",
        "        print(f\"Nome: {self.nome}, Espécie: {self.especie}, Cor: {self.cor}, Som emitido: {self.som}\")\n",
        "\n",
        "   # def som_emitido(self som):\n",
        "      # self.som = som\n",
        "\n",
        "\n",
        "#Imprimir informações\n",
        "\n",
        "animal1 = Animal(\"Max\", \"Golden\", \"Marrom\", \"AUAU\")\n",
        "animal2 = Animal(\"Tom\", \"Frajola\", \"Preto e Branco\", \"MIAU\")\n",
        "\n",
        "\n",
        "animal1.imprimir_informacoes()\n",
        "animal2.imprimir_informacoes()"
      ],
      "metadata": {
        "colab": {
          "base_uri": "https://localhost:8080/"
        },
        "id": "Ot_NRppH9UVm",
        "outputId": "66b54ca7-9827-4bdd-959e-5913c7043045"
      },
      "execution_count": null,
      "outputs": [
        {
          "output_type": "stream",
          "name": "stdout",
          "text": [
            "Nome: Max, Espécie: Golden, Cor: Marrom, Som emitido: AUAU\n",
            "Nome: Tom, Espécie: Frajola, Cor: Preto e Branco, Som emitido: MIAU\n"
          ]
        }
      ]
    },
    {
      "cell_type": "markdown",
      "source": [
        "**Exercicio 7 -** Crie uma classe chamada Calendario que tenha métodos para receber a data atual, verificar se é um ano bissexto e exibir o dia da semana."
      ],
      "metadata": {
        "id": "9pAv3gNc9qeF"
      }
    },
    {
      "cell_type": "code",
      "source": [
        "from datetime import date\n",
        "\n",
        "class Calendario:\n",
        "    def __init__(self):\n",
        "        self.data_atual = date.today()\n",
        "\n",
        "    def ano_bissexto(self, ano):\n",
        "        if (ano % 4 == 0 and ano % 100 != 0) or (ano % 400 == 0):\n",
        "            return \"é ano bissexto\"\n",
        "        else:\n",
        "            return \"não é ano bissexto\"\n",
        "\n",
        "    def dia_da_semana(self):\n",
        "        dias_da_semana = ['Segunda-feira', 'Terça-feira', 'Quarta-feira', 'Quinta-feira', 'Sexta-feira', 'Sábado', 'Domingo']\n",
        "        return dias_da_semana[self.data_atual.weekday()]\n",
        "\n",
        "#Imprimir informações\n",
        "\n",
        "calendario = Calendario()\n",
        "\n",
        "print(\"Data atual:\", calendario.data_atual)\n",
        "print(\"Ano bissexto:\", calendario.ano_bissexto(calendario.data_atual.year))\n",
        "print(\"Dia da semana:\", calendario.dia_da_semana())\n"
      ],
      "metadata": {
        "id": "YWerB82s9w5z"
      },
      "execution_count": null,
      "outputs": []
    },
    {
      "cell_type": "markdown",
      "source": [
        "**Exercício 8 -** Crie uma classe chamada Estudante com atributos para nome, idade, nota e série. Adicione métodos para atualizar a nota e a série."
      ],
      "metadata": {
        "id": "SuuiwQUy-DbA"
      }
    },
    {
      "cell_type": "code",
      "source": [
        "class Estudante:\n",
        "    def __init__(self, nome, idade, nota, serie):\n",
        "        self.nome = nome\n",
        "        self.idade = idade\n",
        "        self.nota = nota\n",
        "        self.serie = serie\n",
        "\n",
        "    def imprimir_informacoes(self):\n",
        "        print(f\"Nome: {self.nome}, Idade: {self.idade}, Nota: {self.nota}, Série: {self.serie}\")\n",
        "\n",
        "    def atualizar_nome(self, novo_nome):\n",
        "        self.nome = novo_nome\n",
        "\n",
        "    def atualizar_idade(self, nova_idade):\n",
        "        self.idade = nova_idade\n",
        "\n",
        "    def atualizar_nota(self, nova_nota):\n",
        "        self.nota = nova_nota\n",
        "\n",
        "    def atualizar_serie(self, nova_serie):\n",
        "        self.serie = nova_serie\n",
        "\n",
        "\n",
        "#Imprimir informações\n",
        "\n",
        "estudante1 = Estudante(\"João\", 15, 10, \"9° ano A\")\n",
        "estudante2 = Estudante(\"Maria\", 17, 9, \"3° série B\")\n",
        "\n",
        "estudante1.imprimir_informacoes()\n",
        "estudante2.imprimir_informacoes()\n",
        "\n",
        "estudante1.atualizar_nome(\"Joãozinho\")\n",
        "estudante1.atualizar_idade(16)\n",
        "estudante1.atualizar_nota(8)\n",
        "estudante1.atualizar_serie(\"1° série C\")\n",
        "\n",
        "estudante1.imprimir_informacoes()\n",
        "estudante2.imprimir_informacoes()"
      ],
      "metadata": {
        "id": "fTqKm58H-JKe"
      },
      "execution_count": null,
      "outputs": []
    },
    {
      "cell_type": "markdown",
      "source": [
        "**Exercício 9 -** Crie uma classe chamada Funcionario com atributos para nome, cargo e salário. Adicione métodos para calcular o aumento de salário."
      ],
      "metadata": {
        "id": "ExJJg8Cu-LVX"
      }
    },
    {
      "cell_type": "code",
      "source": [
        "class Funcionario:\n",
        "    def __init__(self, nome, cargo, salario):\n",
        "        self.nome = nome\n",
        "        self.cargo = cargo\n",
        "        self.salario = salario\n",
        "\n",
        "    def imprimir_informacoes(self):\n",
        "        print(f\"Nome: {self.nome}, Cargo: {self.cargo}, Salário: {self.salario}\")\n",
        "\n",
        "    def aumento_salario(self, novo_salario):\n",
        "        self.salario = novo_salario\n",
        "\n",
        "#Imprimir informações\n",
        "\n",
        "funcionario1 = Funcionario(\"Matheus\", \"Gerente\", 1000 )\n",
        "funcionario2 = Funcionario(\"Sabrina\", \"Auxiliar\", 500)\n",
        "\n",
        "funcionario1.imprimir_informacoes()\n",
        "funcionario2.imprimir_informacoes()\n",
        "\n",
        "funcionario1.aumento_salario(1002)\n",
        "funcionario2.aumento_salario(550)\n",
        "\n",
        "funcionario1.imprimir_informacoes()\n",
        "funcionario2.imprimir_informacoes()"
      ],
      "metadata": {
        "id": "2Htj6_41-Le5"
      },
      "execution_count": null,
      "outputs": []
    },
    {
      "cell_type": "markdown",
      "source": [
        "**Exercício 10 -** Crie uma classe chamada Produto com atributos para nome, preço e quantidade em estoque. Adicione métodos para atualizar o preço e a quantidade, e para exibir informações sobre o produto."
      ],
      "metadata": {
        "id": "BmlZ8lxI-Usw"
      }
    },
    {
      "cell_type": "code",
      "source": [
        "class Produto:\n",
        "    def __init__(self, nome, preco, quantidade_estoque):\n",
        "        self.nome = nome\n",
        "        self.preco = preco\n",
        "        self.quantidade_estoque = quantidade_estoque\n",
        "\n",
        "    def imprimir_informacoes(self):\n",
        "        print(f\"Nome: {self.nome}, Preço: {self.preco}, Quantidade que possui no estoque: {self.quantidade_estoque}\")\n",
        "\n",
        "    def atualizar_preco(self, novo_preco):\n",
        "        self.preco = novo_preco\n",
        "\n",
        "    def atualizar_estoque(self, novo_estoque):\n",
        "        self.quantidade_estoque = novo_estoque\n",
        "\n",
        "#Imprimir informações\n",
        "\n",
        "produto1 = Produto(\"banana\", \"10 reais\", 35)\n",
        "produto2 = Produto(\"mamão\", \"4 reais\", 78)\n",
        "produto3 = Produto(\"maçã\", \"3 reais\", 115)\n",
        "\n",
        "produto1.imprimir_informacoes()\n",
        "produto2.imprimir_informacoes()\n",
        "produto3.imprimir_informacoes()\n",
        "\n",
        "produto1.atualizar_preco(\"8 reais\")\n",
        "produto2.atualizar_estoque(75)\n",
        "\n",
        "produto1.imprimir_informacoes()\n",
        "produto2.imprimir_informacoes()\n",
        "produto3.imprimir_informacoes()"
      ],
      "metadata": {
        "id": "pDwihLvy-a39"
      },
      "execution_count": null,
      "outputs": []
    }
  ]
}